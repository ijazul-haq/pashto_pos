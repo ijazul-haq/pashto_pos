{
 "cells": [
  {
   "cell_type": "code",
   "execution_count": 66,
   "id": "2c5e4e69",
   "metadata": {},
   "outputs": [],
   "source": [
    "import pandas as pd\n",
    "import json\n",
    "from sklearn_crfsuite import CRF, metrics"
   ]
  },
  {
   "cell_type": "markdown",
   "id": "c90ab750",
   "metadata": {},
   "source": [
    "### Loading the Data"
   ]
  },
  {
   "cell_type": "code",
   "execution_count": 67,
   "id": "7dfd3222",
   "metadata": {},
   "outputs": [
    {
     "data": {
      "text/html": [
       "<div>\n",
       "<style scoped>\n",
       "    .dataframe tbody tr th:only-of-type {\n",
       "        vertical-align: middle;\n",
       "    }\n",
       "\n",
       "    .dataframe tbody tr th {\n",
       "        vertical-align: top;\n",
       "    }\n",
       "\n",
       "    .dataframe thead th {\n",
       "        text-align: right;\n",
       "    }\n",
       "</style>\n",
       "<table border=\"1\" class=\"dataframe\">\n",
       "  <thead>\n",
       "    <tr style=\"text-align: right;\">\n",
       "      <th></th>\n",
       "      <th>id</th>\n",
       "      <th>original</th>\n",
       "      <th>segmented</th>\n",
       "      <th>tagged</th>\n",
       "    </tr>\n",
       "  </thead>\n",
       "  <tbody>\n",
       "    <tr>\n",
       "      <th>0</th>\n",
       "      <td>1</td>\n",
       "      <td>د افغانستان د کرکټ بورډ سرپرست مشر میرویس اشرف...</td>\n",
       "      <td>دBافغانستانBدBکرکټBبورډBسرپرستBمشرBمیرویسSاشرف...</td>\n",
       "      <td>[[\"د\", \"IN\"], [\"افغانستان\", \"NN.P\"], [\"د\", \"IN...</td>\n",
       "    </tr>\n",
       "    <tr>\n",
       "      <th>1</th>\n",
       "      <td>2</td>\n",
       "      <td>طالبان لا د خپل مشرتابه د ټاکلو لپاره هم کوم م...</td>\n",
       "      <td>طالبانBلاBدBخپلBمشرتابهBدBټاکلوBلپارهBهمBکومBم...</td>\n",
       "      <td>[[\"طالبان\",\"NN.C.2\"],[\"لا\",\"RB\"],[\"د\",\"IN\"],[\"...</td>\n",
       "    </tr>\n",
       "    <tr>\n",
       "      <th>2</th>\n",
       "      <td>3</td>\n",
       "      <td>له ستونزو سره سره د افغانستان اوسنی اقتصادي وض...</td>\n",
       "      <td>لهBستونزوBسرهSسرهBدBافغانستانBاوسنیBاقتصاديBوض...</td>\n",
       "      <td>[[\"له\",\"IN\"],[\"ستونزو\",\"NN.C.2\"],[\"سره سره\",\"R...</td>\n",
       "    </tr>\n",
       "    <tr>\n",
       "      <th>3</th>\n",
       "      <td>4</td>\n",
       "      <td>چې امریکايي ځواکونو افغانستان ته د ترهګرو د ځپ...</td>\n",
       "      <td>چېBامریکاييBځواکونوBافغانستانBتهBدBترهګروBدBځپ...</td>\n",
       "      <td>[[\"چې\",\"CC\"],[\"امریکايي\",\"JJ\"],[\"ځواکونو\",\"NN....</td>\n",
       "    </tr>\n",
       "    <tr>\n",
       "      <th>4</th>\n",
       "      <td>5</td>\n",
       "      <td>هغوی پوښتنې کولې او مولوي صاحب يې ځوابونه ويل</td>\n",
       "      <td>هغویBپوښتنېBکولېBاوBمولويSصاحبBيېBځوابونهBويل</td>\n",
       "      <td>[[\"هغوی\",\"PR.P.iii\"],[\"پوښتنې\",\"NN.C.2\"],[\"کول...</td>\n",
       "    </tr>\n",
       "  </tbody>\n",
       "</table>\n",
       "</div>"
      ],
      "text/plain": [
       "   id                                           original  \\\n",
       "0   1  د افغانستان د کرکټ بورډ سرپرست مشر میرویس اشرف...   \n",
       "1   2  طالبان لا د خپل مشرتابه د ټاکلو لپاره هم کوم م...   \n",
       "2   3  له ستونزو سره سره د افغانستان اوسنی اقتصادي وض...   \n",
       "3   4  چې امریکايي ځواکونو افغانستان ته د ترهګرو د ځپ...   \n",
       "4   5      هغوی پوښتنې کولې او مولوي صاحب يې ځوابونه ويل   \n",
       "\n",
       "                                           segmented  \\\n",
       "0  دBافغانستانBدBکرکټBبورډBسرپرستBمشرBمیرویسSاشرف...   \n",
       "1  طالبانBلاBدBخپلBمشرتابهBدBټاکلوBلپارهBهمBکومBم...   \n",
       "2  لهBستونزوBسرهSسرهBدBافغانستانBاوسنیBاقتصاديBوض...   \n",
       "3  چېBامریکاييBځواکونوBافغانستانBتهBدBترهګروBدBځپ...   \n",
       "4      هغویBپوښتنېBکولېBاوBمولويSصاحبBيېBځوابونهBويل   \n",
       "\n",
       "                                              tagged  \n",
       "0  [[\"د\", \"IN\"], [\"افغانستان\", \"NN.P\"], [\"د\", \"IN...  \n",
       "1  [[\"طالبان\",\"NN.C.2\"],[\"لا\",\"RB\"],[\"د\",\"IN\"],[\"...  \n",
       "2  [[\"له\",\"IN\"],[\"ستونزو\",\"NN.C.2\"],[\"سره سره\",\"R...  \n",
       "3  [[\"چې\",\"CC\"],[\"امریکايي\",\"JJ\"],[\"ځواکونو\",\"NN....  \n",
       "4  [[\"هغوی\",\"PR.P.iii\"],[\"پوښتنې\",\"NN.C.2\"],[\"کول...  "
      ]
     },
     "execution_count": 67,
     "metadata": {},
     "output_type": "execute_result"
    }
   ],
   "source": [
    "df = pd.read_csv('data/pos_tagged_sample.csv')\n",
    "df.head()"
   ]
  },
  {
   "cell_type": "markdown",
   "id": "c7fc31f5",
   "metadata": {},
   "source": [
    "### Preprocessing"
   ]
  },
  {
   "cell_type": "code",
   "execution_count": 69,
   "id": "81ec5653",
   "metadata": {},
   "outputs": [
    {
     "name": "stdout",
     "output_type": "stream",
     "text": [
      "Total:  500\n",
      "Train:  400\n",
      "Test:  100\n"
     ]
    }
   ],
   "source": [
    "tagged_sentences = df['tagged']\n",
    "\n",
    "sentences = []\n",
    "for sentence in tagged_sentences:\n",
    "    sentence = json.loads(sentence)\n",
    "    sentence_ = []\n",
    "    for word in sentence:\n",
    "        word, tag = word[0], word[1]\n",
    "        tag = tag.replace('.','').replace('NNC2', 'NNS').replace('NNC1M', 'NNM').replace('NNC1F', 'NNF')\n",
    "        sentence_.append((word,tag))\n",
    "    sentences.append(sentence_)\n",
    "    \n",
    "cutoff = int(.20 * len(sentences))\n",
    "train = dataset[cutoff:]\n",
    "test = dataset[:cutoff]\n",
    "\n",
    "print('Total: ', len(sentences))\n",
    "print('Train: ', len(train))\n",
    "print('Test: ', len(test))"
   ]
  },
  {
   "cell_type": "markdown",
   "id": "17004639",
   "metadata": {},
   "source": [
    "### Features Extraction"
   ]
  },
  {
   "cell_type": "code",
   "execution_count": 70,
   "id": "4546ffb8",
   "metadata": {},
   "outputs": [],
   "source": [
    "def features(sentence, index):\n",
    "    token = sentence[index]\n",
    "    prev_1 = ''.join(sentence[index-1:index])\n",
    "    next_1 = ''.join(sentence[index+1:index+2])\n",
    "    prev_2 = '' if(index<2) else ''.join(sentence[index-2:index-1])\n",
    "    next_2 = ''.join(sentence[index+2:index+3])\n",
    "    \n",
    "    features = {\n",
    "        'token': token,\n",
    "        'is_first': index == 0,\n",
    "        'is_last': index == len(sentence) - 1,\n",
    "        'length': len(token),\n",
    "        'is_numeric': token.isdigit(),\n",
    "        'pfx_1': token[0] if(len(token) > 2) else '',\n",
    "        'pfx_2': token[:2] if(len(token) > 3) else '',\n",
    "        'pfx_3': token[:3] if(len(token) > 4) else '',\n",
    "        'sfx_1': token[-1] if(len(token) > 2) else '',\n",
    "        'sfx_2': token[-2:] if(len(token) > 3) else '',\n",
    "        'sfx_3': token[-3:] if(len(token) > 4) else '',\n",
    "        \n",
    "        'prev_1': prev_1,\n",
    "        'prev_1_len': len(prev_1),\n",
    "        'prev_1_pfx_1': '' if (not prev_1 or len(prev_1)<3) else prev_1[0],\n",
    "        'prev_1_pfx_2': '' if (not prev_1 or len(prev_1)<4) else prev_1[:2],\n",
    "        'prev_1_sfx_1': '' if (not prev_1 or len(prev_1)<3) else prev_1[-1],\n",
    "        'prev_1_sfx_2': '' if (not prev_1 or len(prev_1)<4) else prev_1[-2:],\n",
    "        'prev_2': prev_2,\n",
    "        \n",
    "        'next_1': next_1,\n",
    "        'next_1_len': len(next_1),\n",
    "        'next_1_pfx_1': '' if (not next_1 or len(next_1)<3) else next_1[0],       \n",
    "        'next_1_pfx_2': '' if (not next_1 or len(next_1)<4) else next_1[:2],       \n",
    "        'next_1_sfx_1': '' if (not next_1 or len(next_1)<3) else next_1[-1],       \n",
    "        'next_1_sfx_2': '' if (not next_1 or len(next_1)<4) else next_1[-2:],       \n",
    "        'next_2': next_2,\n",
    "      }\n",
    "    return features\n",
    "\n",
    "def transform_to_dataset(tagged_sentences):\n",
    "    X, y = [], []\n",
    "    for tagged in tagged_sentences:\n",
    "        untagged = [token for token, tag in tagged]\n",
    "        X.append([features(untagged, index) for index in range(len(untagged))])\n",
    "        y.append([tag for _, tag in tagged])\n",
    "    return X, y\n",
    "\n",
    "X_train, y_train = transform_to_dataset(train)\n",
    "X_test, y_test = transform_to_dataset(test)"
   ]
  },
  {
   "cell_type": "markdown",
   "id": "9fe641c2",
   "metadata": {},
   "source": [
    "### Model Training"
   ]
  },
  {
   "cell_type": "code",
   "execution_count": 75,
   "id": "827626da",
   "metadata": {},
   "outputs": [],
   "source": [
    "model = CRF(algorithm = 'lbfgs', c1 = 0.1, c2 = 0.1, max_iterations = 100, all_possible_transitions=True)\n",
    "model.fit(X_train, y_train)"
   ]
  },
  {
   "cell_type": "markdown",
   "id": "ae67ec71",
   "metadata": {},
   "source": [
    "### Testing"
   ]
  },
  {
   "cell_type": "code",
   "execution_count": 74,
   "id": "91138466",
   "metadata": {},
   "outputs": [
    {
     "name": "stdout",
     "output_type": "stream",
     "text": [
      "0.7696129659555626 0.7060889619761475 0.7266334982702931 0.8892601431980907\n"
     ]
    }
   ],
   "source": [
    "y_pred = model.predict(X_test)\n",
    "\n",
    "prec = metrics.flat_precision_score(y_test, y_pred, average='macro')\n",
    "rec = metrics.flat_recall_score(y_test, y_pred, average='macro')\n",
    "f1 = metrics.flat_f1_score(y_test, y_pred, average='macro')\n",
    "acc = metrics.flat_accuracy_score(y_test, y_pred)\n",
    "print(prec, rec, f1, acc)"
   ]
  },
  {
   "cell_type": "code",
   "execution_count": null,
   "id": "d47898e9",
   "metadata": {},
   "outputs": [],
   "source": []
  }
 ],
 "metadata": {
  "kernelspec": {
   "display_name": "Python 3 (ipykernel)",
   "language": "python",
   "name": "python3"
  },
  "language_info": {
   "codemirror_mode": {
    "name": "ipython",
    "version": 3
   },
   "file_extension": ".py",
   "mimetype": "text/x-python",
   "name": "python",
   "nbconvert_exporter": "python",
   "pygments_lexer": "ipython3",
   "version": "3.8.16"
  }
 },
 "nbformat": 4,
 "nbformat_minor": 5
}
